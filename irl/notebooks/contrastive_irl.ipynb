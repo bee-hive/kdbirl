{
 "cells": [
  {
   "cell_type": "code",
   "execution_count": 1,
   "metadata": {},
   "outputs": [],
   "source": [
    "# Convergence criteria\n",
    "# IRL Papers: Evaluation\n",
    "# Initialization of weights\n",
    "# Gridworld environment"
   ]
  },
  {
   "cell_type": "code",
   "execution_count": 2,
   "metadata": {},
   "outputs": [],
   "source": [
    "import json\n",
    "import sys\n",
    "sys.path.append('../simulated_fqi/')\n",
    "import seaborn as sns\n",
    "import tqdm\n",
    "import matplotlib.pyplot as plt \n",
    "import numpy as np\n",
    "import torch\n",
    "import random\n",
    "import shap\n",
    "import configargparse\n",
    "import torch\n",
    "import torch.optim as optim\n",
    "\n",
    "from environments import CartPoleRegulatorEnv\n",
    "from environments import CartEnv\n",
    "from environments import AcrobotEnv\n",
    "from models.agents import NFQAgent\n",
    "from models.networks import NFQNetwork, ContrastiveNFQNetwork\n",
    "from util import get_logger, close_logger, load_models, make_reproducible, save_models\n",
    "import matplotlib.pyplot as plt\n",
    "import numpy as np\n",
    "import itertools\n",
    "from train import fqi\n",
    "from sklearn.metrics import mean_absolute_error, mean_squared_error\n",
    "import math"
   ]
  },
  {
   "cell_type": "code",
   "execution_count": 3,
   "metadata": {},
   "outputs": [],
   "source": [
    "def runFQI(\n",
    "verbose=True, \n",
    "is_contrastive=False, \n",
    "epoch=1000, \n",
    "init_experience=200, \n",
    "evaluations=5, \n",
    "force_left=5, \n",
    "random_seed=None, \n",
    "reward_weights_shared=np.asarray([0.1] * 5),\n",
    "reward_weights_fg = np.asarray([0.1] * 5),\n",
    "use_weights=True\n",
    "):\n",
    "    # Setup environment\n",
    "    bg_cart_mass = 1.0\n",
    "    fg_cart_mass = 1.0\n",
    "    train_env_bg = CartPoleRegulatorEnv(\n",
    "        group=0,\n",
    "        masscart=bg_cart_mass,\n",
    "        mode=\"train\",\n",
    "        force_left=force_left,\n",
    "        is_contrastive=is_contrastive,\n",
    "    )\n",
    "    train_env_fg = CartPoleRegulatorEnv(\n",
    "        group=1,\n",
    "        masscart=fg_cart_mass,\n",
    "        mode=\"train\",\n",
    "        force_left=force_left,\n",
    "        is_contrastive=is_contrastive,\n",
    "    )\n",
    "    eval_env_bg = CartPoleRegulatorEnv(\n",
    "        group=0,\n",
    "        masscart=bg_cart_mass,\n",
    "        mode=\"eval\",\n",
    "        force_left=force_left,\n",
    "        is_contrastive=is_contrastive,\n",
    "    )\n",
    "    eval_env_fg = CartPoleRegulatorEnv(\n",
    "        group=1,\n",
    "        masscart=fg_cart_mass,\n",
    "        mode=\"eval\",\n",
    "        force_left=force_left,\n",
    "        is_contrastive=is_contrastive,\n",
    "    )\n",
    "\n",
    "    # Log to File, Console, TensorBoard, W&B\n",
    "    logger = get_logger()\n",
    "    \n",
    "    # NFQ Main loop\n",
    "    bg_rollouts = []\n",
    "    fg_rollouts = []\n",
    "    total_cost = 0\n",
    "    if init_experience > 0:\n",
    "        for _ in range(init_experience):\n",
    "            rollout_bg, episode_cost = train_env_bg.generate_rollout(\n",
    "                None, render=False, group=0\n",
    "            )\n",
    "            rollout_fg, episode_cost = train_env_fg.generate_rollout(\n",
    "                None, render=False, group=1\n",
    "            )\n",
    "            bg_rollouts.extend(rollout_bg)\n",
    "            fg_rollouts.extend(rollout_fg)\n",
    "            total_cost += episode_cost\n",
    "    bg_rollouts.extend(fg_rollouts)\n",
    "    all_rollouts = bg_rollouts.copy()\n",
    "\n",
    "    bg_rollouts_test = []\n",
    "    fg_rollouts_test = []\n",
    "    if init_experience > 0:\n",
    "        for _ in range(init_experience):\n",
    "            rollout_bg, episode_cost = eval_env_bg.generate_rollout(\n",
    "                None, render=False, group=0\n",
    "            )\n",
    "            rollout_fg, episode_cost = eval_env_fg.generate_rollout(\n",
    "                None, render=False, group=1\n",
    "            )\n",
    "            bg_rollouts_test.extend(rollout_bg)\n",
    "            fg_rollouts_test.extend(rollout_fg)\n",
    "    bg_rollouts_test.extend(fg_rollouts)\n",
    "    all_rollouts_test = bg_rollouts_test.copy()\n",
    "    # Setup agent\n",
    "    nfq_net = ContrastiveNFQNetwork(\n",
    "        state_dim=train_env_bg.state_dim, is_contrastive=is_contrastive\n",
    "    )\n",
    "\n",
    "    if is_contrastive:\n",
    "        optimizer = optim.Adam(\n",
    "            itertools.chain(\n",
    "                nfq_net.layers_shared.parameters(),\n",
    "                nfq_net.layers_last_shared.parameters(),\n",
    "            ),\n",
    "            lr=1e-1,\n",
    "        )\n",
    "    else:\n",
    "            optimizer = optim.Adam(nfq_net.parameters(), lr=1e-1)\n",
    "    nfq_agent = NFQAgent(nfq_net, optimizer)\n",
    "\n",
    "    bg_success_queue = [0] * 3\n",
    "    fg_success_queue = [0] * 3\n",
    "    epochs_fg = 0\n",
    "    eval_fg = 0\n",
    "    for k, epoch in enumerate(tqdm.tqdm(range(epoch + 1))):\n",
    "\n",
    "        state_action_b, target_q_values, groups = nfq_agent.generate_pattern_set(\n",
    "            all_rollouts, reward_weights_shared=reward_weights_shared, reward_weights_fg=reward_weights_fg, use_weights=use_weights\n",
    "        )\n",
    "        X = state_action_b\n",
    "        train_groups = groups\n",
    "\n",
    "        if not nfq_net.freeze_shared:\n",
    "            loss = nfq_agent.train((state_action_b, target_q_values, groups))\n",
    "\n",
    "        eval_episode_length_fg, eval_success_fg, eval_episode_cost_fg = 0, 0, 0\n",
    "        if nfq_net.freeze_shared:\n",
    "            eval_fg += 1\n",
    "\n",
    "            if eval_fg > 50:\n",
    "                loss = nfq_agent.train((state_action_b, target_q_values, groups))\n",
    "        (\n",
    "            eval_episode_length_bg,\n",
    "            eval_success_bg,\n",
    "            eval_episode_cost_bg,\n",
    "        ) = nfq_agent.evaluate(eval_env_bg, render=False)\n",
    "        (\n",
    "            eval_episode_length_fg,\n",
    "            eval_success_fg,\n",
    "            eval_episode_cost_fg,\n",
    "        ) = nfq_agent.evaluate(eval_env_fg, render=False)\n",
    "\n",
    "        bg_success_queue = bg_success_queue[1:]\n",
    "        bg_success_queue.append(1 if eval_success_bg else 0)\n",
    "\n",
    "        fg_success_queue = fg_success_queue[1:]\n",
    "        fg_success_queue.append(1 if eval_success_fg else 0)\n",
    "\n",
    "        printed_bg = False\n",
    "        printed_fg = False\n",
    "\n",
    "        if sum(bg_success_queue) == 3 and not nfq_net.freeze_shared == True:\n",
    "            if epochs_fg == 0:\n",
    "                epochs_fg = epoch\n",
    "            printed_bg = True\n",
    "            nfq_net.freeze_shared = True\n",
    "            if verbose:\n",
    "                print(\"FREEZING SHARED\")\n",
    "            for param in nfq_net.layers_fg.parameters():\n",
    "                param.requires_grad = False\n",
    "            for param in nfq_net.layers_last_fg.parameters():\n",
    "                param.requires_grad = False\n",
    "\n",
    "            optimizer = optim.Adam(\n",
    "                itertools.chain(\n",
    "                    nfq_net.layers_fg.parameters(),\n",
    "                    nfq_net.layers_last_fg.parameters(),\n",
    "                ),\n",
    "                lr=1e-1,\n",
    "            )\n",
    "            nfq_agent._optimizer = optimizer\n",
    "\n",
    "        # Print current status\n",
    "#         if verbose:\n",
    "#             logger.info(\n",
    "#                 \"Epoch {:4d} | Eval BG {:4d} / {:4f} | Eval FG {:4d} / {:4f} | Train Loss {:.4f}\".format(\n",
    "#                     epoch,\n",
    "#                     eval_episode_length_bg,\n",
    "#                     eval_episode_cost_bg,\n",
    "#                     eval_episode_length_fg,\n",
    "#                     eval_episode_cost_fg,\n",
    "#                     loss,\n",
    "#                 )\n",
    "#             )\n",
    "        if sum(fg_success_queue) == 3:\n",
    "            printed_fg = True\n",
    "            break\n",
    "\n",
    "    eval_env_bg.step_number = 0\n",
    "    eval_env_fg.step_number = 0\n",
    "\n",
    "    eval_env_bg.max_steps = 1000\n",
    "    eval_env_fg.max_steps = 1000\n",
    "\n",
    "    performance_fg = []\n",
    "    performance_bg = []\n",
    "    num_steps_bg = []\n",
    "    num_steps_fg = []\n",
    "    total = 0\n",
    "    for it in range(evaluations):\n",
    "        (\n",
    "            eval_episode_length_bg,\n",
    "            eval_success_bg,\n",
    "            eval_episode_cost_bg,\n",
    "        ) = nfq_agent.evaluate(eval_env_bg, False)\n",
    "        if verbose:\n",
    "            print(eval_episode_length_bg, eval_success_bg)\n",
    "        num_steps_bg.append(eval_episode_length_bg)\n",
    "        performance_bg.append(eval_episode_length_bg)\n",
    "        total += 1\n",
    "        train_env_bg.close()\n",
    "        eval_env_bg.close()\n",
    "\n",
    "        (\n",
    "            eval_episode_length_fg,\n",
    "            eval_success_fg,\n",
    "            eval_episode_cost_fg,\n",
    "        ) = nfq_agent.evaluate(eval_env_fg, False)\n",
    "        if verbose:\n",
    "            print(eval_episode_length_fg, eval_success_fg)\n",
    "        num_steps_fg.append(eval_episode_length_fg)\n",
    "        performance_fg.append(eval_episode_length_fg)\n",
    "        total += 1\n",
    "        train_env_fg.close()\n",
    "        eval_env_fg.close()\n",
    "    print(\"Fg trained after \" + str(epochs_fg) + \" epochs\")\n",
    "    print(\"BG stayed up for steps: \", num_steps_bg)\n",
    "    print(\"FG stayed up for steps: \", num_steps_fg)\n",
    "    \n",
    "    bg_rollouts = []\n",
    "    fg_rollouts = []\n",
    "    total_cost = 0\n",
    "    if init_experience > 0:\n",
    "        for _ in range(init_experience):\n",
    "            rollout_bg, episode_cost = train_env_bg.generate_rollout(\n",
    "                nfq_agent, render=False, group=0\n",
    "            )\n",
    "            rollout_fg, episode_cost = train_env_fg.generate_rollout(\n",
    "                nfq_agent, render=False, group=1\n",
    "            )\n",
    "            bg_rollouts.extend(rollout_bg)\n",
    "            fg_rollouts.extend(rollout_fg)\n",
    "            total_cost += episode_cost\n",
    "    bg_rollouts.extend(fg_rollouts)\n",
    "    policy_rollouts = bg_rollouts.copy()\n",
    "    \n",
    "    # Do a rollout of the policy \n",
    "    return policy_rollouts, nfq_agent"
   ]
  },
  {
   "cell_type": "code",
   "execution_count": 4,
   "metadata": {},
   "outputs": [],
   "source": [
    "def find_feature_expectations(dataset, shared=True):\n",
    "    if shared:\n",
    "        features_obs = []\n",
    "        actions = []\n",
    "        for sample in dataset:\n",
    "            obs = sample[0]\n",
    "            action = sample[1]\n",
    "            actions.append(action)\n",
    "            features_obs.append(obs)\n",
    "        features_obs = np.asarray(features_obs)\n",
    "        avg_action = sum(actions)/len(actions)\n",
    "        feature_expecs = np.average(features_obs, axis=0)\n",
    "        feature_expecs = np.append(feature_expecs, [avg_action])\n",
    "    else:\n",
    "        # Only perform for foreground samples\n",
    "        features_obs = []\n",
    "        actions = []\n",
    "        for sample in dataset:\n",
    "            group = sample[-1]\n",
    "            if group == 1:\n",
    "                obs = sample[0]\n",
    "                action = sample[1]\n",
    "                actions.append(action)\n",
    "                features_obs.append(obs)\n",
    "        features_obs = np.asarray(features_obs)\n",
    "        avg_action = sum(actions)/len(actions)\n",
    "        feature_expecs = np.average(features_obs, axis=0)\n",
    "        feature_expecs = np.append(feature_expecs, [avg_action])\n",
    "    \n",
    "    return feature_expecs\n",
    "def norm(vec):\n",
    "    return vec/np.sum(np.abs(vec))            "
   ]
  },
  {
   "cell_type": "code",
   "execution_count": 5,
   "metadata": {
    "scrolled": true
   },
   "outputs": [
    {
     "name": "stdout",
     "output_type": "stream",
     "text": [
      "Generating behavior\n"
     ]
    },
    {
     "name": "stderr",
     "output_type": "stream",
     "text": [
      "\u001b[33mWARN: Box bound precision lowered by casting to float32\u001b[0m\n",
      "  8%|▊         | 76/1001 [00:20<17:02,  1.11s/it]"
     ]
    },
    {
     "name": "stdout",
     "output_type": "stream",
     "text": [
      "FREEZING SHARED\n"
     ]
    },
    {
     "name": "stderr",
     "output_type": "stream",
     "text": [
      "  8%|▊         | 80/1001 [00:35<06:49,  2.25it/s]\n"
     ]
    },
    {
     "name": "stdout",
     "output_type": "stream",
     "text": [
      "522 False\n",
      "1000 True\n",
      "1000 True\n",
      "1000 True\n",
      "1000 True\n",
      "1000 True\n",
      "1000 True\n",
      "1000 True\n",
      "1000 True\n",
      "395 False\n",
      "Fg trained after 75 epochs\n",
      "BG stayed up for steps:  [522, 1000, 1000, 1000, 1000]\n",
      "FG stayed up for steps:  [1000, 1000, 1000, 1000, 395]\n",
      "Epoch 0 - Train pi with current w_shared=[10, 10, 10, 10, 10] w_fg= [10, 10, 10, 10, 10]\n"
     ]
    },
    {
     "name": "stderr",
     "output_type": "stream",
     "text": [
      "100%|██████████| 1001/1001 [01:33<00:00, 10.69it/s]\n"
     ]
    },
    {
     "name": "stdout",
     "output_type": "stream",
     "text": [
      "22 False\n",
      "22 False\n",
      "21 False\n",
      "17 False\n",
      "25 False\n",
      "17 False\n",
      "21 False\n",
      "17 False\n",
      "21 False\n",
      "19 False\n",
      "Fg trained after 0 epochs\n",
      "BG stayed up for steps:  [22, 21, 25, 21, 21]\n",
      "FG stayed up for steps:  [22, 17, 17, 17, 19]\n",
      "Evaluate feature expectations for pi\n",
      "Initialize behaviour mu_shared:\n",
      "Initialize behaviour mu_fg:\n",
      "Gradient update for new w\n",
      "Epoch 1 - Train pi with current w_shared=[0.19968892 0.20041502 0.19967371 0.19871479 0.20150755] w_fg= [0.19971117 0.20061232 0.1996455  0.19866595 0.20136507]\n"
     ]
    },
    {
     "name": "stderr",
     "output_type": "stream",
     "text": [
      "\u001b[33mWARN: Box bound precision lowered by casting to float32\u001b[0m\n",
      " 10%|▉         | 97/1001 [00:30<31:17,  2.08s/it]"
     ]
    },
    {
     "name": "stdout",
     "output_type": "stream",
     "text": [
      "FREEZING SHARED\n"
     ]
    },
    {
     "name": "stderr",
     "output_type": "stream",
     "text": [
      " 12%|█▏        | 118/1001 [01:29<11:10,  1.32it/s]\n"
     ]
    },
    {
     "name": "stdout",
     "output_type": "stream",
     "text": [
      "1000 True\n",
      "1000 True\n",
      "1000 True\n",
      "1000 True\n",
      "95 False\n",
      "135 False\n",
      "1000 True\n",
      "69 False\n",
      "1000 True\n",
      "93 False\n",
      "Fg trained after 96 epochs\n",
      "BG stayed up for steps:  [1000, 1000, 95, 1000, 1000]\n",
      "FG stayed up for steps:  [1000, 1000, 135, 69, 93]\n",
      "Evaluate feature expectations for pi\n",
      "Gradient update for new w\n",
      "Converged\n"
     ]
    },
    {
     "data": {
      "text/plain": [
       "[<matplotlib.lines.Line2D at 0x2b5ed7da5b70>]"
      ]
     },
     "execution_count": 5,
     "metadata": {},
     "output_type": "execute_result"
    },
    {
     "data": {
      "image/png": "[encoded data removed]",
      "text/plain": [
       "<Figure size 432x288 with 1 Axes>"
      ]
     },
     "metadata": {
      "needs_background": "light"
     },
     "output_type": "display_data"
    }
   ],
   "source": [
    "epochs=15; learning_rate=0.1; init_w_shared = [10]*5; init_w_fg = [10]*5\n",
    "w_shared = init_w_shared\n",
    "w_fg = init_w_fg\n",
    "\n",
    "muB_shared = None\n",
    "muB_fg = None\n",
    "\n",
    "diff_shared = []\n",
    "diff_fg = []\n",
    "\n",
    "delta = 1e-2\n",
    "\n",
    "print(\"Generating behavior\")\n",
    "behavior_rollout, opt_agent = runFQI(is_contrastive=True, use_weights=False)\n",
    "\n",
    "# Abs value of elt 2 and 0\n",
    "# We know reward function is block --> transform to step (better approximated w/ linear fn)\n",
    "# How do we update policy\n",
    "for i in range(epochs):\n",
    "    print('Epoch', i, '- Train pi with current w_shared='+str(w_shared) + \" w_fg=\", w_fg )\n",
    "#     try:\n",
    "    policy_rollout, agent_pi = runFQI(reward_weights_shared=w_shared, reward_weights_fg=w_fg)\n",
    "\n",
    "    print('Evaluate feature expectations for pi')\n",
    "    # Generate rollout with this policy, then do feature expectations\n",
    "    mu_shared = find_feature_expectations(policy_rollout, shared=True)\n",
    "    mu_fg = find_feature_expectations(policy_rollout, shared=False)\n",
    "\n",
    "    if muB_shared is None:\n",
    "        print('Initialize behaviour mu_shared:')\n",
    "        muB_shared = find_feature_expectations(behavior_rollout, shared=True)\n",
    "    if muB_fg is None:\n",
    "        print('Initialize behaviour mu_fg:')\n",
    "        muB_fg = find_feature_expectations(behavior_rollout, shared=False)\n",
    "\n",
    "    print('Gradient update for new w')\n",
    "    grad_shared = norm(muB_shared) - norm(mu_shared)\n",
    "    grad_fg = norm(muB_fg) - norm(mu_fg)\n",
    "    \n",
    "    w_shared_old = w_shared\n",
    "    w_shared += learning_rate*(0.95**i) * grad_shared\n",
    "    w_shared = w_shared/np.sum(np.abs(w_shared))\n",
    "    \n",
    "    w_fg_old = w_fg\n",
    "    w_fg += learning_rate*(0.95**i) * grad_fg\n",
    "    w_fg = w_fg/np.sum(np.abs(w_fg))\n",
    "    \n",
    "    diff_shared.append(mean_absolute_error(w_shared_old, w_shared))\n",
    "    diff_fg.append(mean_absolute_error(w_fg_old, w_fg))\n",
    "    \n",
    "    if abs(diff_shared[-1]) < delta and abs(diff_fg[-1]) < delta:\n",
    "        print(\"Converged\")\n",
    "        break\n",
    "\n",
    "plt.plot(diff_shared)\n",
    "plt.plot(diff_fg)"
   ]
  },
  {
   "cell_type": "code",
   "execution_count": 6,
   "metadata": {},
   "outputs": [
    {
     "data": {
      "text/plain": [
       "array([0.18387565, 0.21841495, 0.19053697, 0.16585704, 0.2413154 ])"
      ]
     },
     "execution_count": 6,
     "metadata": {},
     "output_type": "execute_result"
    }
   ],
   "source": [
    "w_fg"
   ]
  },
  {
   "cell_type": "code",
   "execution_count": 7,
   "metadata": {},
   "outputs": [
    {
     "data": {
      "text/plain": [
       "array([0.17655206, 0.20522903, 0.19676828, 0.1810286 , 0.24042204])"
      ]
     },
     "execution_count": 7,
     "metadata": {},
     "output_type": "execute_result"
    }
   ],
   "source": [
    "w_shared"
   ]
  },
  {
   "cell_type": "markdown",
   "metadata": {},
   "source": [
    "# Evaluation"
   ]
  },
  {
   "cell_type": "code",
   "execution_count": 8,
   "metadata": {},
   "outputs": [
    {
     "name": "stderr",
     "output_type": "stream",
     "text": [
      "\u001b[33mWARN: Box bound precision lowered by casting to float32\u001b[0m\n",
      " 10%|█         | 102/1001 [00:58<37:14,  2.49s/it]"
     ]
    },
    {
     "name": "stdout",
     "output_type": "stream",
     "text": [
      "FREEZING SHARED\n"
     ]
    },
    {
     "name": "stderr",
     "output_type": "stream",
     "text": [
      " 15%|█▍        | 146/1001 [02:57<17:16,  1.21s/it]\n"
     ]
    },
    {
     "name": "stdout",
     "output_type": "stream",
     "text": [
      "66 False\n",
      "34 False\n",
      "27 False\n",
      "66 False\n",
      "1000 True\n",
      "42 False\n",
      "42 False\n",
      "1000 True\n",
      "67 False\n",
      "1000 True\n",
      "Fg trained after 101 epochs\n",
      "BG stayed up for steps:  [66, 27, 1000, 42, 67]\n",
      "FG stayed up for steps:  [34, 66, 42, 1000, 1000]\n"
     ]
    }
   ],
   "source": [
    "policy_rollout, nfq_agent = runFQI(reward_weights_shared=w_shared, reward_weights_fg=w_fg)"
   ]
  },
  {
   "cell_type": "code",
   "execution_count": 9,
   "metadata": {},
   "outputs": [
    {
     "name": "stderr",
     "output_type": "stream",
     "text": [
      "100%|██████████| 36966/36966 [00:45<00:00, 813.41it/s]"
     ]
    },
    {
     "name": "stdout",
     "output_type": "stream",
     "text": [
      "Correct: 0.5970892171184331%\n"
     ]
    },
    {
     "name": "stderr",
     "output_type": "stream",
     "text": [
      "\n"
     ]
    }
   ],
   "source": [
    "unique_actions = np.array([0, 1])\n",
    "correct = 0\n",
    "total = 0\n",
    "for i, tup in enumerate(tqdm.tqdm(behavior_rollout)):\n",
    "    obs = tup[0]\n",
    "    action_b = tup[1]\n",
    "    group_b = tup[-1]\n",
    "    action_opt = opt_agent.get_best_action(obs, unique_actions, group_b)\n",
    "    action_pi = nfq_agent.get_best_action(obs, unique_actions, group_b)\n",
    "    if action_pi == action_opt:\n",
    "        correct += 1\n",
    "    total += 1\n",
    "print(\"Correct: \" + str(correct/total) + \"%\")"
   ]
  },
  {
   "cell_type": "markdown",
   "metadata": {},
   "source": [
    "## Recover the reward function?\n",
    "* Can evaluate this by densely sampling the state space"
   ]
  },
  {
   "cell_type": "code",
   "execution_count": 10,
   "metadata": {},
   "outputs": [],
   "source": [
    "def plot_reward(agent, title='Recovered Reward'):\n",
    "    positions = [i/10 for i in range(-48, 48)]\n",
    "    thetas = [i for i in range(-24, 24)]\n",
    "    x_success_range = 2.4\n",
    "    theta_success_range = 12 * 2 * math.pi / 360\n",
    "    reward_matrix = np.zeros((len(thetas), len(positions)))\n",
    "    # For both actions\n",
    "    for i, pos in enumerate(positions):\n",
    "        for j, theta in enumerate(thetas):\n",
    "            s = [pos, 0, theta, 0]\n",
    "            a = agent.get_best_action(s, unique_actions, 1)\n",
    "            s = torch.Tensor(s)\n",
    "            a = torch.Tensor([a])        \n",
    "            s_a = torch.cat([s, a], 0)\n",
    "            reward = agent._nfq_net(s_a).cpu().detach().tolist()[0]\n",
    "\n",
    "            reward_matrix[j,i] = reward\n",
    "    plt.figure(figsize=(14, 5))\n",
    "    sns.heatmap(reward_matrix, xticklabels=positions, yticklabels=thetas)\n",
    "    plt.xlabel(\"Cart Position\")\n",
    "    plt.ylabel(\"Pole Angle\")\n",
    "    plt.title(title)\n",
    "    "
   ]
  },
  {
   "cell_type": "code",
   "execution_count": 11,
   "metadata": {},
   "outputs": [
    {
     "data": {
      "image/png": "[encoded data removed]",
      "text/plain": [
       "<Figure size 1008x360 with 2 Axes>"
      ]
     },
     "metadata": {
      "needs_background": "light"
     },
     "output_type": "display_data"
    },
    {
     "data": {
      "image/png": "[encoded data removed]",
      "text/plain": [
       "<Figure size 1008x360 with 2 Axes>"
      ]
     },
     "metadata": {
      "needs_background": "light"
     },
     "output_type": "display_data"
    }
   ],
   "source": [
    "plot_reward(nfq_agent)\n",
    "plot_reward(opt_agent, \"Optimal Agent Reward\")"
   ]
  },
  {
   "cell_type": "code",
   "execution_count": 12,
   "metadata": {},
   "outputs": [
    {
     "data": {
      "text/plain": [
       "Text(0.5, 1.0, 'Actual Reward')"
      ]
     },
     "execution_count": 12,
     "metadata": {},
     "output_type": "execute_result"
    },
    {
     "data": {
      "image/png": "[encoded data removed]",
      "text/plain": [
       "<Figure size 1008x360 with 2 Axes>"
      ]
     },
     "metadata": {
      "needs_background": "light"
     },
     "output_type": "display_data"
    }
   ],
   "source": [
    "positions = [i/10 for i in range(-48, 48)]\n",
    "thetas = [i for i in range(-24, 24)]\n",
    "x_success_range = 2.4\n",
    "theta_success_range = 12 * 2 * math.pi / 360\n",
    "reward_matrix = np.zeros((len(thetas), len(positions)))\n",
    "# For both actions\n",
    "for i, pos in enumerate(positions):\n",
    "    for j, theta in enumerate(thetas):\n",
    "        if -x_success_range < pos < x_success_range and -theta_success_range < theta < theta_success_range:\n",
    "                reward = 0\n",
    "        else:\n",
    "            reward = 1\n",
    "\n",
    "        reward_matrix[j,i] = reward\n",
    "plt.figure(figsize=(14, 5))\n",
    "sns.heatmap(reward_matrix, xticklabels=positions, yticklabels=thetas)\n",
    "plt.xlabel(\"Cart Position\")\n",
    "plt.ylabel(\"Pole Angle\")\n",
    "plt.title(\"Actual Reward\")"
   ]
  },
  {
   "cell_type": "code",
   "execution_count": null,
   "metadata": {},
   "outputs": [],
   "source": []
  }
 ],
 "metadata": {
  "kernelspec": {
   "display_name": "research [~/.conda/envs/research/]",
   "language": "python",
   "name": "conda_research"
  },
  "language_info": {
   "codemirror_mode": {
    "name": "ipython",
    "version": 3
   },
   "file_extension": ".py",
   "mimetype": "text/x-python",
   "name": "python",
   "nbconvert_exporter": "python",
   "pygments_lexer": "ipython3",
   "version": "3.6.12"
  }
 },
 "nbformat": 4,
 "nbformat_minor": 4
}
