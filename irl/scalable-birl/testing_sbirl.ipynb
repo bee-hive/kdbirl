{
 "cells": [
  {
   "cell_type": "code",
   "execution_count": 19,
   "metadata": {},
   "outputs": [],
   "source": [
    "from sbirl import avril, load_data\n",
    "import jax.numpy as np\n",
    "from jax import grad, jit, vmap, value_and_grad\n",
    "from jax import random\n",
    "from jax.ops import index, index_add, index_update\n",
    "from jax.experimental import optimizers\n",
    "import jax\n",
    "\n",
    "# # First setup the data, I have provided a helper function for dealing \n",
    "# # with the OpenAI gym control environemnts\n",
    "\n",
    "# inputs,targets,a_dim,s_dim = load_data('CartPole-v1',num_trajs=15)\n",
    "\n",
    "# # However, AVRIL can handle any data appropriately formatted, that is inputs\n",
    "# # that are (state,next_state) pairs and targets that are (action, next_action)\n",
    "# # pairs:\n",
    "# # inputs = [num_pairs x 2 x state_dimension]\n",
    "# # targets = [num_pairs x 2 x 1]\n",
    "\n",
    "# # You can define the reward to be state-only or state-action depending on use\n",
    "\n",
    "# agent = avril(inputs,targets,s_dim,a_dim,state_only=True)\n",
    "\n",
    "# # Train for set number of iterations with desired batch-size\n",
    "\n",
    "# agent.train(iters=5000,batch_size=64)\n",
    "\n",
    "# # Now test by rolling out in the live Gym environment\n",
    "\n",
    "# agent.gym_test('CartPole-v1')"
   ]
  },
  {
   "cell_type": "markdown",
   "metadata": {},
   "source": [
    "# Use the Gridworld environment"
   ]
  },
  {
   "cell_type": "code",
   "execution_count": 20,
   "metadata": {},
   "outputs": [],
   "source": [
    "import json\n",
    "import sys\n",
    "sys.path.append('../../simulated_fqi/')\n",
    "import seaborn as sns\n",
    "import tqdm\n",
    "import matplotlib.pyplot as plt \n",
    "import jax.numpy as jnp\n",
    "import numpy as np\n",
    "import torch\n",
    "import random\n",
    "import shap\n",
    "import configargparse\n",
    "import torch\n",
    "import torch.optim as optim\n",
    "import scipy\n",
    "from environments import Gridworld\n",
    "from models.agents import NFQAgent\n",
    "from models.networks import NFQNetwork, ContrastiveNFQNetwork\n",
    "from util import get_logger, close_logger, load_models, make_reproducible, save_models\n",
    "import matplotlib.pyplot as plt\n",
    "import numpy as np\n",
    "import itertools\n",
    "from train import fqi\n",
    "import tqdm\n",
    "from sklearn.metrics import mean_absolute_error, mean_squared_error\n",
    "import math\n",
    "from scipy.stats import norm, multivariate_normal\n",
    "from sklearn.linear_model import LinearRegression\n",
    "sys.path.append('../')\n",
    "from irl_gridworld import find_feature_expectations, plot_reward, norm, find_valid_actions, generate_rollout, generate_policy_rollout, runLinearFQI, runNonlinearFQI, runParametricFQI, l2_norm\n",
    "from multiprocessing import Pool\n",
    "from matplotlib.colors import LogNorm, Normalize\n",
    "plt.rcParams.update({'font.size': 22})"
   ]
  },
  {
   "cell_type": "code",
   "execution_count": 3,
   "metadata": {},
   "outputs": [],
   "source": [
    "# m expert observations\n",
    "# behavior_opt, opt_agent = runLinearFQI(dataset='bg', init_experience=500, behavior=True, reward_weights_shared=[1, 1], n=4)\n",
    "behavior_opt = runNonlinearFQI(init_experience=500, behavior=True, target_state=[7, 0], n=8)\n",
    "# behavior_opt = runParametricFQI(init_experience=500, behavior=True, target_state=[3, 0], n=4, reward_params=[3, -3, 5])"
   ]
  },
  {
   "cell_type": "code",
   "execution_count": 4,
   "metadata": {},
   "outputs": [
    {
     "data": {
      "text/plain": [
       "([2, 3], [0, -1], 0.002080758071502716, (2, 2), False, 0)"
      ]
     },
     "execution_count": 4,
     "metadata": {},
     "output_type": "execute_result"
    }
   ],
   "source": [
    "behavior_opt[0]"
   ]
  },
  {
   "cell_type": "code",
   "execution_count": 5,
   "metadata": {},
   "outputs": [],
   "source": [
    "action_pos_dict = {1:[-1, 0], 2: [1, 0], 3: [0, -1], 4: [0, 1]}"
   ]
  },
  {
   "cell_type": "code",
   "execution_count": 33,
   "metadata": {},
   "outputs": [],
   "source": [
    "def transform_state(coords):\n",
    "    state = np.zeros((8, 8))\n",
    "    state[coords[0], coords[1]] = 1\n",
    "    return state.flatten()\n",
    "def untransform_state(state):\n",
    "    state = np.reshape(state, (8, 8))\n",
    "    coords = np.nonzero(state)\n",
    "    c = [coords[0][0], coords[1][0]]\n",
    "    return c"
   ]
  },
  {
   "cell_type": "code",
   "execution_count": 37,
   "metadata": {},
   "outputs": [],
   "source": [
    "s = transform_state([3, 3])"
   ]
  },
  {
   "cell_type": "code",
   "execution_count": 35,
   "metadata": {},
   "outputs": [
    {
     "data": {
      "text/plain": [
       "[3, 3]"
      ]
     },
     "execution_count": 35,
     "metadata": {},
     "output_type": "execute_result"
    }
   ],
   "source": [
    "untransform_state(s)"
   ]
  },
  {
   "cell_type": "code",
   "execution_count": 8,
   "metadata": {},
   "outputs": [],
   "source": [
    "states = []\n",
    "next_states = []\n",
    "actions = []\n",
    "next_actions = []\n",
    "for i, sample in enumerate(behavior_opt[:-1]):\n",
    "    s, a, r, ns, _, _ = sample\n",
    "    state = transform_state(s)\n",
    "    states.append(state)\n",
    "    if a == [-1, 0]:\n",
    "        actions.append(1)\n",
    "    elif a == [1, 0]:\n",
    "        actions.append(2)\n",
    "    elif a == [0, -1]:\n",
    "        actions.append(3)\n",
    "    elif a == [0, 1]:\n",
    "        actions.append(4)\n",
    "    ns = transform_state(list(ns))\n",
    "    next_states.append(ns)\n",
    "    next_a = behavior_opt[i+1][1]\n",
    "    if next_a == [-1, 0]:\n",
    "        next_actions.append(1)\n",
    "    elif next_a == [1, 0]:\n",
    "        next_actions.append(2)\n",
    "    elif next_a == [0, -1]:\n",
    "        next_actions.append(3)\n",
    "    elif next_a == [0, 1]:\n",
    "        next_actions.append(4)\n",
    "inputs = []\n",
    "targets = []\n",
    "for s, ns, a, na in zip(states, next_states, actions, next_actions):\n",
    "    inputs.append([s, ns])\n",
    "    targets.append([[a], [na]])\n",
    "\n",
    "inputs = np.asarray(inputs)\n",
    "targets = np.asarray(targets)"
   ]
  },
  {
   "cell_type": "code",
   "execution_count": 9,
   "metadata": {},
   "outputs": [
    {
     "name": "stderr",
     "output_type": "stream",
     "text": [
      "No GPU/TPU found, falling back to CPU.\n"
     ]
    }
   ],
   "source": [
    "inputs = jnp.array(inputs, dtype=jnp.float32)\n",
    "targets = jnp.array(targets, dtype=jnp.float32)"
   ]
  },
  {
   "cell_type": "code",
   "execution_count": 10,
   "metadata": {},
   "outputs": [
    {
     "data": {
      "text/plain": [
       "(7499, 2, 64)"
      ]
     },
     "execution_count": 10,
     "metadata": {},
     "output_type": "execute_result"
    }
   ],
   "source": [
    "inputs.shape"
   ]
  },
  {
   "cell_type": "code",
   "execution_count": 11,
   "metadata": {},
   "outputs": [
    {
     "data": {
      "text/plain": [
       "(7499, 2, 1)"
      ]
     },
     "execution_count": 11,
     "metadata": {},
     "output_type": "execute_result"
    }
   ],
   "source": [
    "targets.shape"
   ]
  },
  {
   "cell_type": "code",
   "execution_count": 12,
   "metadata": {},
   "outputs": [],
   "source": [
    "agent = avril(inputs,targets,2,4,state_only=True)"
   ]
  },
  {
   "cell_type": "code",
   "execution_count": 13,
   "metadata": {},
   "outputs": [
    {
     "name": "stderr",
     "output_type": "stream",
     "text": [
      "\r",
      "  0%|          | 0/5000 [00:00<?, ?it/s]"
     ]
    },
    {
     "name": "stdout",
     "output_type": "stream",
     "text": [
      "Log SDS:  Traced<ShapedArray(float32[64])>with<JVPTrace(level=1/1)>\n",
      "  with primal = Traced<ShapedArray(float32[64]):JaxprTrace(level=-1/1)>\n",
      "       tangent = Traced<ShapedArray(float32[64]):JaxprTrace(level=0/1)>\n",
      "Log SDS shape:  (64,)\n",
      "Np EXP:  Traced<ShapedArray(float32[64])>with<JVPTrace(level=1/1)>\n",
      "  with primal = Traced<ShapedArray(float32[64]):JaxprTrace(level=-1/1)>\n",
      "       tangent = Traced<ShapedArray(float32[64]):JaxprTrace(level=0/1)>\n",
      "Means:  Traced<ShapedArray(float32[64])>with<JVPTrace(level=1/1)>\n",
      "  with primal = Traced<ShapedArray(float32[64]):JaxprTrace(level=-1/1)>\n",
      "       tangent = Traced<ShapedArray(float32[64]):JaxprTrace(level=0/1)>\n"
     ]
    },
    {
     "name": "stderr",
     "output_type": "stream",
     "text": [
      "  2%|▏         | 109/5000 [00:04<11:02,  7.38it/s] "
     ]
    },
    {
     "name": "stdout",
     "output_type": "stream",
     "text": [
      "Log SDS:  Traced<ShapedArray(float32[11])>with<JVPTrace(level=1/1)>\n",
      "  with primal = Traced<ShapedArray(float32[11]):JaxprTrace(level=-1/1)>\n",
      "       tangent = Traced<ShapedArray(float32[11]):JaxprTrace(level=0/1)>\n",
      "Log SDS shape:  (11,)\n",
      "Np EXP:  Traced<ShapedArray(float32[11])>with<JVPTrace(level=1/1)>\n",
      "  with primal = Traced<ShapedArray(float32[11]):JaxprTrace(level=-1/1)>\n",
      "       tangent = Traced<ShapedArray(float32[11]):JaxprTrace(level=0/1)>\n",
      "Means:  Traced<ShapedArray(float32[11])>with<JVPTrace(level=1/1)>\n",
      "  with primal = Traced<ShapedArray(float32[11]):JaxprTrace(level=-1/1)>\n",
      "       tangent = Traced<ShapedArray(float32[11]):JaxprTrace(level=0/1)>\n"
     ]
    },
    {
     "name": "stderr",
     "output_type": "stream",
     "text": [
      "100%|██████████| 5000/5000 [00:49<00:00, 101.60it/s]\n"
     ]
    }
   ],
   "source": [
    "# However, AVRIL can handle any data appropriately formatted, that is inputs\n",
    "# that are (state,next_state) pairs and targets that are (action, next_action)\n",
    "# pairs:\n",
    "# inputs = [num_pairs x 2 x state_dimension]\n",
    "# targets = [num_pairs x 2 x 1]\n",
    "\n",
    "# You can define the reward to be state-only or state-action depending on use\n",
    "\n",
    "agent.train(iters=5000,batch_size=64)\n",
    "\n",
    "\n",
    "# Now test by rolling out in the live Gym environment\n",
    "\n"
   ]
  },
  {
   "cell_type": "code",
   "execution_count": 42,
   "metadata": {},
   "outputs": [],
   "source": [
    "def plot_reward(n=4, title='Reward target = [3, 0]', target_state=None):\n",
    "    reward_matrix = np.zeros((n, n))\n",
    "    positions = [i for i in range(n)]\n",
    "    for i, x in enumerate(range(n)):\n",
    "        for j, y in enumerate(range(n)):\n",
    "            if [x, y] == target_state:\n",
    "                reward = 1.0\n",
    "            else:\n",
    "                reward = 0.0\n",
    "            reward_matrix[j,i] = reward\n",
    "    plt.figure(figsize=(5, 5))\n",
    "    ax = sns.heatmap(reward_matrix, xticklabels=positions, yticklabels=positions)\n",
    "    plt.xlabel(\"X\")\n",
    "    plt.ylabel(\"Y\")\n",
    "    ax.invert_yaxis()\n",
    "    plt.title(title)"
   ]
  },
  {
   "cell_type": "code",
   "execution_count": 40,
   "metadata": {},
   "outputs": [],
   "source": [
    "def calculate_next_state(state, a):\n",
    "    s = untransform_state(state)\n",
    "    if a == 0:\n",
    "        action = [-1, 0]\n",
    "    elif a == 1:\n",
    "        action = [1, 0]\n",
    "    elif a == 2:\n",
    "        action = [0, -1]\n",
    "    elif a == 3:\n",
    "        action = [0, 1]\n",
    "    ns = np.add(s, action)\n",
    "    return ns.tolist()"
   ]
  },
  {
   "cell_type": "code",
   "execution_count": 47,
   "metadata": {},
   "outputs": [
    {
     "data": {
      "image/png": "[encoded data removed]",
      "text/plain": [
       "<Figure size 360x360 with 2 Axes>"
      ]
     },
     "metadata": {
      "needs_background": "light"
     },
     "output_type": "display_data"
    },
    {
     "data": {
      "image/png": "[encoded data removed]",
      "text/plain": [
       "<Figure size 360x360 with 2 Axes>"
      ]
     },
     "metadata": {
      "needs_background": "light"
     },
     "output_type": "display_data"
    }
   ],
   "source": [
    "# This is on-policy. We're recommending actions, not predicting rewards right.\n",
    "heatmap_reward = np.zeros((8, 8))\n",
    "target_state = [7, 0]\n",
    "for i, x_i in enumerate(range(8)):\n",
    "    for j, y_i in enumerate(range(8)):\n",
    "        state = transform_state([x_i, y_i])\n",
    "        action_logit = agent.predict(jnp.array(state, jnp.float32))\n",
    "        action = jax.nn.softmax(action_logit).argmax()\n",
    "        ns = calculate_next_state(state, action)\n",
    "        if ns == [7, 0]:\n",
    "            heatmap_reward[y_i, x_i] = 1\n",
    "\n",
    "x = np.arange(0, 8, 1)\n",
    "y = np.arange(0, 8, 1)\n",
    "heatmap_reward = (heatmap_reward - np.min(heatmap_reward))/np.ptp(heatmap_reward)\n",
    "fig = plt.figure()\n",
    "fig.set_figheight(5)\n",
    "fig.set_figwidth(5)\n",
    "ax = sns.heatmap(heatmap_reward)\n",
    "plt.title(\"Avril Reward Mean Scaled\")\n",
    "ax.invert_yaxis()\n",
    "plt.xlabel(\"X\")\n",
    "plt.ylabel(\"Y\")\n",
    "ax.set_xticklabels(x, rotation=90)\n",
    "ax.set_yticklabels(y, rotation=360)\n",
    "plt.show()\n",
    "plt.close()\n",
    "\n",
    "plot_reward(n=8, title=\"Reward Target = [7, 0]\", target_state=[7, 0])"
   ]
  },
  {
   "cell_type": "code",
   "execution_count": null,
   "metadata": {},
   "outputs": [],
   "source": []
  }
 ],
 "metadata": {
  "kernelspec": {
   "display_name": "research [~/.conda/envs/research/]",
   "language": "python",
   "name": "conda_research"
  },
  "language_info": {
   "codemirror_mode": {
    "name": "ipython",
    "version": 3
   },
   "file_extension": ".py",
   "mimetype": "text/x-python",
   "name": "python",
   "nbconvert_exporter": "python",
   "pygments_lexer": "ipython3",
   "version": "3.6.12"
  }
 },
 "nbformat": 4,
 "nbformat_minor": 4
}
